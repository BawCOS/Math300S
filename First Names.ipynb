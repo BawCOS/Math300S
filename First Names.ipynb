{
 "cells": [
  {
   "cell_type": "markdown",
   "metadata": {},
   "source": [
    "# Understanding First Names\n",
    "## Bradley Warner March 2018\n",
    "\n",
    "\n",
    "Note: This post is based on a project posted on the [datacamp website.](https://www.datacamp.com) The ideas are from datacamp, I completed the work."
   ]
  },
  {
   "cell_type": "markdown",
   "metadata": {},
   "source": [
    "## 1. Introduction to Baby Names Data\n",
    "<blockquote>\n",
    "  <p>Mathematics is the art of giving the same name to different things.</p>\n",
    "    <p>Henri Poincare</p>\n",
    "</blockquote>\n",
    "<p>In this project, we will explore a rich dataset of first names of babies born in the US, that spans a period of more than 100 years! This suprisingly simple dataset can help us uncover so many interesting stories, and that is exactly what we are going to be doing. </p>\n",
    "<p>Let us start by reading the data.</p>"
   ]
  },
  {
   "cell_type": "code",
   "execution_count": 1,
   "metadata": {},
   "outputs": [],
   "source": [
    "# Import modules\n",
    "import pandas as pd\n",
    "import numpy as np"
   ]
  },
  {
   "cell_type": "code",
   "execution_count": 2,
   "metadata": {},
   "outputs": [],
   "source": [
    "# Read names into a dataframe: bnames\n",
    "bnames=pd.read_csv(\"datasets/names.csv.gz\")"
   ]
  },
  {
   "cell_type": "code",
   "execution_count": 3,
   "metadata": {},
   "outputs": [
    {
     "data": {
      "text/html": [
       "<div>\n",
       "<style scoped>\n",
       "    .dataframe tbody tr th:only-of-type {\n",
       "        vertical-align: middle;\n",
       "    }\n",
       "\n",
       "    .dataframe tbody tr th {\n",
       "        vertical-align: top;\n",
       "    }\n",
       "\n",
       "    .dataframe thead th {\n",
       "        text-align: right;\n",
       "    }\n",
       "</style>\n",
       "<table border=\"1\" class=\"dataframe\">\n",
       "  <thead>\n",
       "    <tr style=\"text-align: right;\">\n",
       "      <th></th>\n",
       "      <th>name</th>\n",
       "      <th>sex</th>\n",
       "      <th>births</th>\n",
       "      <th>year</th>\n",
       "    </tr>\n",
       "  </thead>\n",
       "  <tbody>\n",
       "    <tr>\n",
       "      <th>0</th>\n",
       "      <td>Mary</td>\n",
       "      <td>F</td>\n",
       "      <td>7065</td>\n",
       "      <td>1880</td>\n",
       "    </tr>\n",
       "    <tr>\n",
       "      <th>1</th>\n",
       "      <td>Anna</td>\n",
       "      <td>F</td>\n",
       "      <td>2604</td>\n",
       "      <td>1880</td>\n",
       "    </tr>\n",
       "    <tr>\n",
       "      <th>2</th>\n",
       "      <td>Emma</td>\n",
       "      <td>F</td>\n",
       "      <td>2003</td>\n",
       "      <td>1880</td>\n",
       "    </tr>\n",
       "    <tr>\n",
       "      <th>3</th>\n",
       "      <td>Elizabeth</td>\n",
       "      <td>F</td>\n",
       "      <td>1939</td>\n",
       "      <td>1880</td>\n",
       "    </tr>\n",
       "    <tr>\n",
       "      <th>4</th>\n",
       "      <td>Minnie</td>\n",
       "      <td>F</td>\n",
       "      <td>1746</td>\n",
       "      <td>1880</td>\n",
       "    </tr>\n",
       "  </tbody>\n",
       "</table>\n",
       "</div>"
      ],
      "text/plain": [
       "        name sex  births  year\n",
       "0       Mary   F    7065  1880\n",
       "1       Anna   F    2604  1880\n",
       "2       Emma   F    2003  1880\n",
       "3  Elizabeth   F    1939  1880\n",
       "4     Minnie   F    1746  1880"
      ]
     },
     "execution_count": 3,
     "metadata": {},
     "output_type": "execute_result"
    }
   ],
   "source": [
    "bnames.head()"
   ]
  },
  {
   "cell_type": "markdown",
   "metadata": {},
   "source": [
    "## 2. Exploring Trends in Names\n",
    "<p>One of the first things we want to do is to understand naming trends. Let us start by determining the top five most popular male and female names for this decade (born 2011 and later). Brianna for female and Brendon for males is my guess.</p>"
   ]
  },
  {
   "cell_type": "code",
   "execution_count": 4,
   "metadata": {},
   "outputs": [
    {
     "data": {
      "text/html": [
       "<div>\n",
       "<style scoped>\n",
       "    .dataframe tbody tr th:only-of-type {\n",
       "        vertical-align: middle;\n",
       "    }\n",
       "\n",
       "    .dataframe tbody tr th {\n",
       "        vertical-align: top;\n",
       "    }\n",
       "\n",
       "    .dataframe thead th {\n",
       "        text-align: right;\n",
       "    }\n",
       "</style>\n",
       "<table border=\"1\" class=\"dataframe\">\n",
       "  <thead>\n",
       "    <tr style=\"text-align: right;\">\n",
       "      <th></th>\n",
       "      <th>sex</th>\n",
       "      <th>name</th>\n",
       "      <th>births</th>\n",
       "    </tr>\n",
       "  </thead>\n",
       "  <tbody>\n",
       "    <tr>\n",
       "      <th>0</th>\n",
       "      <td>F</td>\n",
       "      <td>Emma</td>\n",
       "      <td>121375</td>\n",
       "    </tr>\n",
       "    <tr>\n",
       "      <th>1</th>\n",
       "      <td>F</td>\n",
       "      <td>Sophia</td>\n",
       "      <td>117352</td>\n",
       "    </tr>\n",
       "    <tr>\n",
       "      <th>2</th>\n",
       "      <td>F</td>\n",
       "      <td>Olivia</td>\n",
       "      <td>111691</td>\n",
       "    </tr>\n",
       "    <tr>\n",
       "      <th>3</th>\n",
       "      <td>F</td>\n",
       "      <td>Isabella</td>\n",
       "      <td>103947</td>\n",
       "    </tr>\n",
       "    <tr>\n",
       "      <th>4</th>\n",
       "      <td>F</td>\n",
       "      <td>Ava</td>\n",
       "      <td>94507</td>\n",
       "    </tr>\n",
       "    <tr>\n",
       "      <th>5</th>\n",
       "      <td>M</td>\n",
       "      <td>Noah</td>\n",
       "      <td>110280</td>\n",
       "    </tr>\n",
       "    <tr>\n",
       "      <th>6</th>\n",
       "      <td>M</td>\n",
       "      <td>Mason</td>\n",
       "      <td>105104</td>\n",
       "    </tr>\n",
       "    <tr>\n",
       "      <th>7</th>\n",
       "      <td>M</td>\n",
       "      <td>Jacob</td>\n",
       "      <td>104722</td>\n",
       "    </tr>\n",
       "    <tr>\n",
       "      <th>8</th>\n",
       "      <td>M</td>\n",
       "      <td>Liam</td>\n",
       "      <td>103250</td>\n",
       "    </tr>\n",
       "    <tr>\n",
       "      <th>9</th>\n",
       "      <td>M</td>\n",
       "      <td>William</td>\n",
       "      <td>99144</td>\n",
       "    </tr>\n",
       "  </tbody>\n",
       "</table>\n",
       "</div>"
      ],
      "text/plain": [
       "  sex      name  births\n",
       "0   F      Emma  121375\n",
       "1   F    Sophia  117352\n",
       "2   F    Olivia  111691\n",
       "3   F  Isabella  103947\n",
       "4   F       Ava   94507\n",
       "5   M      Noah  110280\n",
       "6   M     Mason  105104\n",
       "7   M     Jacob  104722\n",
       "8   M      Liam  103250\n",
       "9   M   William   99144"
      ]
     },
     "execution_count": 4,
     "metadata": {},
     "output_type": "execute_result"
    }
   ],
   "source": [
    "# bnames_top5: A dataframe with top 5 popular male and female names for the decade\n",
    "bnames_top5=bnames[bnames.year>2010].\\\n",
    "groupby(['sex','name'],as_index=False).births.sum().\\\n",
    "sort_values(by=['sex','births'],ascending=[True,False]).groupby('sex').\\\n",
    "head(5).reset_index(drop=True)\n",
    "bnames_top5"
   ]
  },
  {
   "cell_type": "markdown",
   "metadata": {},
   "source": [
    "Now let's look at the 1990s."
   ]
  },
  {
   "cell_type": "code",
   "execution_count": 5,
   "metadata": {},
   "outputs": [
    {
     "data": {
      "text/html": [
       "<div>\n",
       "<style scoped>\n",
       "    .dataframe tbody tr th:only-of-type {\n",
       "        vertical-align: middle;\n",
       "    }\n",
       "\n",
       "    .dataframe tbody tr th {\n",
       "        vertical-align: top;\n",
       "    }\n",
       "\n",
       "    .dataframe thead th {\n",
       "        text-align: right;\n",
       "    }\n",
       "</style>\n",
       "<table border=\"1\" class=\"dataframe\">\n",
       "  <thead>\n",
       "    <tr style=\"text-align: right;\">\n",
       "      <th></th>\n",
       "      <th>sex</th>\n",
       "      <th>name</th>\n",
       "      <th>births</th>\n",
       "    </tr>\n",
       "  </thead>\n",
       "  <tbody>\n",
       "    <tr>\n",
       "      <th>0</th>\n",
       "      <td>F</td>\n",
       "      <td>Jessica</td>\n",
       "      <td>303079</td>\n",
       "    </tr>\n",
       "    <tr>\n",
       "      <th>1</th>\n",
       "      <td>F</td>\n",
       "      <td>Ashley</td>\n",
       "      <td>301798</td>\n",
       "    </tr>\n",
       "    <tr>\n",
       "      <th>2</th>\n",
       "      <td>F</td>\n",
       "      <td>Emily</td>\n",
       "      <td>237222</td>\n",
       "    </tr>\n",
       "    <tr>\n",
       "      <th>3</th>\n",
       "      <td>F</td>\n",
       "      <td>Sarah</td>\n",
       "      <td>224282</td>\n",
       "    </tr>\n",
       "    <tr>\n",
       "      <th>4</th>\n",
       "      <td>F</td>\n",
       "      <td>Samantha</td>\n",
       "      <td>223989</td>\n",
       "    </tr>\n",
       "    <tr>\n",
       "      <th>5</th>\n",
       "      <td>M</td>\n",
       "      <td>Michael</td>\n",
       "      <td>462302</td>\n",
       "    </tr>\n",
       "    <tr>\n",
       "      <th>6</th>\n",
       "      <td>M</td>\n",
       "      <td>Christopher</td>\n",
       "      <td>360196</td>\n",
       "    </tr>\n",
       "    <tr>\n",
       "      <th>7</th>\n",
       "      <td>M</td>\n",
       "      <td>Matthew</td>\n",
       "      <td>351596</td>\n",
       "    </tr>\n",
       "    <tr>\n",
       "      <th>8</th>\n",
       "      <td>M</td>\n",
       "      <td>Joshua</td>\n",
       "      <td>329108</td>\n",
       "    </tr>\n",
       "    <tr>\n",
       "      <th>9</th>\n",
       "      <td>M</td>\n",
       "      <td>Jacob</td>\n",
       "      <td>298304</td>\n",
       "    </tr>\n",
       "  </tbody>\n",
       "</table>\n",
       "</div>"
      ],
      "text/plain": [
       "  sex         name  births\n",
       "0   F      Jessica  303079\n",
       "1   F       Ashley  301798\n",
       "2   F        Emily  237222\n",
       "3   F        Sarah  224282\n",
       "4   F     Samantha  223989\n",
       "5   M      Michael  462302\n",
       "6   M  Christopher  360196\n",
       "7   M      Matthew  351596\n",
       "8   M       Joshua  329108\n",
       "9   M        Jacob  298304"
      ]
     },
     "execution_count": 5,
     "metadata": {},
     "output_type": "execute_result"
    }
   ],
   "source": [
    "bnames_top590=bnames[(bnames.year>1989) & (bnames.year<2000)].\\\n",
    "groupby(['sex','name'],as_index=False).births.sum().\\\n",
    "sort_values(by=['sex','births'],ascending=[True,False]).groupby('sex').\\\n",
    "head(5).reset_index(drop=True)\n",
    "bnames_top590"
   ]
  },
  {
   "cell_type": "markdown",
   "metadata": {},
   "source": [
    "Now the 60s when I was born"
   ]
  },
  {
   "cell_type": "code",
   "execution_count": 6,
   "metadata": {},
   "outputs": [
    {
     "data": {
      "text/html": [
       "<div>\n",
       "<style scoped>\n",
       "    .dataframe tbody tr th:only-of-type {\n",
       "        vertical-align: middle;\n",
       "    }\n",
       "\n",
       "    .dataframe tbody tr th {\n",
       "        vertical-align: top;\n",
       "    }\n",
       "\n",
       "    .dataframe thead th {\n",
       "        text-align: right;\n",
       "    }\n",
       "</style>\n",
       "<table border=\"1\" class=\"dataframe\">\n",
       "  <thead>\n",
       "    <tr style=\"text-align: right;\">\n",
       "      <th></th>\n",
       "      <th>sex</th>\n",
       "      <th>name</th>\n",
       "      <th>births</th>\n",
       "    </tr>\n",
       "  </thead>\n",
       "  <tbody>\n",
       "    <tr>\n",
       "      <th>0</th>\n",
       "      <td>F</td>\n",
       "      <td>Lisa</td>\n",
       "      <td>496975</td>\n",
       "    </tr>\n",
       "    <tr>\n",
       "      <th>1</th>\n",
       "      <td>F</td>\n",
       "      <td>Mary</td>\n",
       "      <td>355216</td>\n",
       "    </tr>\n",
       "    <tr>\n",
       "      <th>2</th>\n",
       "      <td>F</td>\n",
       "      <td>Susan</td>\n",
       "      <td>287665</td>\n",
       "    </tr>\n",
       "    <tr>\n",
       "      <th>3</th>\n",
       "      <td>F</td>\n",
       "      <td>Karen</td>\n",
       "      <td>286044</td>\n",
       "    </tr>\n",
       "    <tr>\n",
       "      <th>4</th>\n",
       "      <td>F</td>\n",
       "      <td>Kimberly</td>\n",
       "      <td>259090</td>\n",
       "    </tr>\n",
       "    <tr>\n",
       "      <th>5</th>\n",
       "      <td>M</td>\n",
       "      <td>Michael</td>\n",
       "      <td>833343</td>\n",
       "    </tr>\n",
       "    <tr>\n",
       "      <th>6</th>\n",
       "      <td>M</td>\n",
       "      <td>David</td>\n",
       "      <td>734142</td>\n",
       "    </tr>\n",
       "    <tr>\n",
       "      <th>7</th>\n",
       "      <td>M</td>\n",
       "      <td>John</td>\n",
       "      <td>713587</td>\n",
       "    </tr>\n",
       "    <tr>\n",
       "      <th>8</th>\n",
       "      <td>M</td>\n",
       "      <td>James</td>\n",
       "      <td>684943</td>\n",
       "    </tr>\n",
       "    <tr>\n",
       "      <th>9</th>\n",
       "      <td>M</td>\n",
       "      <td>Robert</td>\n",
       "      <td>650918</td>\n",
       "    </tr>\n",
       "  </tbody>\n",
       "</table>\n",
       "</div>"
      ],
      "text/plain": [
       "  sex      name  births\n",
       "0   F      Lisa  496975\n",
       "1   F      Mary  355216\n",
       "2   F     Susan  287665\n",
       "3   F     Karen  286044\n",
       "4   F  Kimberly  259090\n",
       "5   M   Michael  833343\n",
       "6   M     David  734142\n",
       "7   M      John  713587\n",
       "8   M     James  684943\n",
       "9   M    Robert  650918"
      ]
     },
     "execution_count": 6,
     "metadata": {},
     "output_type": "execute_result"
    }
   ],
   "source": [
    "bnames_top560=bnames[(bnames.year>1959) & (bnames.year<1970)].\\\n",
    "groupby(['sex','name'],as_index=False).births.sum().\\\n",
    "sort_values(by=['sex','births'],ascending=[True,False]).groupby('sex').\\\n",
    "head(5).reset_index(drop=True)\n",
    "bnames_top560"
   ]
  },
  {
   "cell_type": "markdown",
   "metadata": {},
   "source": [
    "## 3. Proportion of Births\n",
    "\n",
    "While the number of births is a useful metric, making comparisons across years becomes difficult, as one would have to control for population effects. One way around this is to normalize the number of births by the total number of births in that year. I want to find the percentage of Bradleys born in 1962."
   ]
  },
  {
   "cell_type": "code",
   "execution_count": 7,
   "metadata": {},
   "outputs": [
    {
     "data": {
      "text/html": [
       "<div>\n",
       "<style scoped>\n",
       "    .dataframe tbody tr th:only-of-type {\n",
       "        vertical-align: middle;\n",
       "    }\n",
       "\n",
       "    .dataframe tbody tr th {\n",
       "        vertical-align: top;\n",
       "    }\n",
       "\n",
       "    .dataframe thead th {\n",
       "        text-align: right;\n",
       "    }\n",
       "</style>\n",
       "<table border=\"1\" class=\"dataframe\">\n",
       "  <thead>\n",
       "    <tr style=\"text-align: right;\">\n",
       "      <th></th>\n",
       "      <th>name</th>\n",
       "      <th>sex</th>\n",
       "      <th>births</th>\n",
       "      <th>year</th>\n",
       "      <th>prop_births</th>\n",
       "    </tr>\n",
       "  </thead>\n",
       "  <tbody>\n",
       "    <tr>\n",
       "      <th>0</th>\n",
       "      <td>Mary</td>\n",
       "      <td>F</td>\n",
       "      <td>7065</td>\n",
       "      <td>1880</td>\n",
       "      <td>0.035065</td>\n",
       "    </tr>\n",
       "    <tr>\n",
       "      <th>1</th>\n",
       "      <td>Anna</td>\n",
       "      <td>F</td>\n",
       "      <td>2604</td>\n",
       "      <td>1880</td>\n",
       "      <td>0.012924</td>\n",
       "    </tr>\n",
       "    <tr>\n",
       "      <th>2</th>\n",
       "      <td>Emma</td>\n",
       "      <td>F</td>\n",
       "      <td>2003</td>\n",
       "      <td>1880</td>\n",
       "      <td>0.009941</td>\n",
       "    </tr>\n",
       "    <tr>\n",
       "      <th>3</th>\n",
       "      <td>Elizabeth</td>\n",
       "      <td>F</td>\n",
       "      <td>1939</td>\n",
       "      <td>1880</td>\n",
       "      <td>0.009624</td>\n",
       "    </tr>\n",
       "    <tr>\n",
       "      <th>4</th>\n",
       "      <td>Minnie</td>\n",
       "      <td>F</td>\n",
       "      <td>1746</td>\n",
       "      <td>1880</td>\n",
       "      <td>0.008666</td>\n",
       "    </tr>\n",
       "    <tr>\n",
       "      <th>5</th>\n",
       "      <td>Margaret</td>\n",
       "      <td>F</td>\n",
       "      <td>1578</td>\n",
       "      <td>1880</td>\n",
       "      <td>0.007832</td>\n",
       "    </tr>\n",
       "    <tr>\n",
       "      <th>6</th>\n",
       "      <td>Ida</td>\n",
       "      <td>F</td>\n",
       "      <td>1472</td>\n",
       "      <td>1880</td>\n",
       "      <td>0.007306</td>\n",
       "    </tr>\n",
       "    <tr>\n",
       "      <th>7</th>\n",
       "      <td>Alice</td>\n",
       "      <td>F</td>\n",
       "      <td>1414</td>\n",
       "      <td>1880</td>\n",
       "      <td>0.007018</td>\n",
       "    </tr>\n",
       "    <tr>\n",
       "      <th>8</th>\n",
       "      <td>Bertha</td>\n",
       "      <td>F</td>\n",
       "      <td>1320</td>\n",
       "      <td>1880</td>\n",
       "      <td>0.006551</td>\n",
       "    </tr>\n",
       "    <tr>\n",
       "      <th>9</th>\n",
       "      <td>Sarah</td>\n",
       "      <td>F</td>\n",
       "      <td>1288</td>\n",
       "      <td>1880</td>\n",
       "      <td>0.006393</td>\n",
       "    </tr>\n",
       "  </tbody>\n",
       "</table>\n",
       "</div>"
      ],
      "text/plain": [
       "        name sex  births  year  prop_births\n",
       "0       Mary   F    7065  1880     0.035065\n",
       "1       Anna   F    2604  1880     0.012924\n",
       "2       Emma   F    2003  1880     0.009941\n",
       "3  Elizabeth   F    1939  1880     0.009624\n",
       "4     Minnie   F    1746  1880     0.008666\n",
       "5   Margaret   F    1578  1880     0.007832\n",
       "6        Ida   F    1472  1880     0.007306\n",
       "7      Alice   F    1414  1880     0.007018\n",
       "8     Bertha   F    1320  1880     0.006551\n",
       "9      Sarah   F    1288  1880     0.006393"
      ]
     },
     "execution_count": 7,
     "metadata": {},
     "output_type": "execute_result"
    }
   ],
   "source": [
    "bnames2 = bnames.copy()\n",
    "bnames2['prop_births']=bnames2.groupby('year')['births'].\\\n",
    "transform(lambda x:x/x.sum())\n",
    "bnames2.head(10)"
   ]
  },
  {
   "cell_type": "code",
   "execution_count": 8,
   "metadata": {},
   "outputs": [
    {
     "data": {
      "text/html": [
       "<div>\n",
       "<style scoped>\n",
       "    .dataframe tbody tr th:only-of-type {\n",
       "        vertical-align: middle;\n",
       "    }\n",
       "\n",
       "    .dataframe tbody tr th {\n",
       "        vertical-align: top;\n",
       "    }\n",
       "\n",
       "    .dataframe thead th {\n",
       "        text-align: right;\n",
       "    }\n",
       "</style>\n",
       "<table border=\"1\" class=\"dataframe\">\n",
       "  <thead>\n",
       "    <tr style=\"text-align: right;\">\n",
       "      <th></th>\n",
       "      <th>name</th>\n",
       "      <th>sex</th>\n",
       "      <th>births</th>\n",
       "      <th>year</th>\n",
       "      <th>prop_births</th>\n",
       "    </tr>\n",
       "  </thead>\n",
       "  <tbody>\n",
       "    <tr>\n",
       "      <th>0</th>\n",
       "      <td>Bradley</td>\n",
       "      <td>F</td>\n",
       "      <td>9</td>\n",
       "      <td>1962</td>\n",
       "      <td>0.000002</td>\n",
       "    </tr>\n",
       "    <tr>\n",
       "      <th>1</th>\n",
       "      <td>Bradley</td>\n",
       "      <td>M</td>\n",
       "      <td>4636</td>\n",
       "      <td>1962</td>\n",
       "      <td>0.001149</td>\n",
       "    </tr>\n",
       "  </tbody>\n",
       "</table>\n",
       "</div>"
      ],
      "text/plain": [
       "      name sex  births  year  prop_births\n",
       "0  Bradley   F       9  1962     0.000002\n",
       "1  Bradley   M    4636  1962     0.001149"
      ]
     },
     "execution_count": 8,
     "metadata": {},
     "output_type": "execute_result"
    }
   ],
   "source": [
    "bnames2[(bnames2.year==1962) & (bnames2.name == \"Bradley\")].reset_index(drop=True)"
   ]
  },
  {
   "cell_type": "markdown",
   "metadata": {},
   "source": [
    "In 1962 there were 4636 males born with the name Bradley and registered in the SSA. Let's get them most common names from 1962 and compare with Bradley"
   ]
  },
  {
   "cell_type": "code",
   "execution_count": 9,
   "metadata": {},
   "outputs": [
    {
     "data": {
      "text/html": [
       "<div>\n",
       "<style scoped>\n",
       "    .dataframe tbody tr th:only-of-type {\n",
       "        vertical-align: middle;\n",
       "    }\n",
       "\n",
       "    .dataframe tbody tr th {\n",
       "        vertical-align: top;\n",
       "    }\n",
       "\n",
       "    .dataframe thead th {\n",
       "        text-align: right;\n",
       "    }\n",
       "</style>\n",
       "<table border=\"1\" class=\"dataframe\">\n",
       "  <thead>\n",
       "    <tr style=\"text-align: right;\">\n",
       "      <th></th>\n",
       "      <th>name</th>\n",
       "      <th>sex</th>\n",
       "      <th>births</th>\n",
       "      <th>year</th>\n",
       "      <th>prop_births</th>\n",
       "    </tr>\n",
       "  </thead>\n",
       "  <tbody>\n",
       "    <tr>\n",
       "      <th>0</th>\n",
       "      <td>Michael</td>\n",
       "      <td>M</td>\n",
       "      <td>85042</td>\n",
       "      <td>1962</td>\n",
       "      <td>0.021073</td>\n",
       "    </tr>\n",
       "    <tr>\n",
       "      <th>1</th>\n",
       "      <td>David</td>\n",
       "      <td>M</td>\n",
       "      <td>81328</td>\n",
       "      <td>1962</td>\n",
       "      <td>0.020153</td>\n",
       "    </tr>\n",
       "    <tr>\n",
       "      <th>2</th>\n",
       "      <td>John</td>\n",
       "      <td>M</td>\n",
       "      <td>78441</td>\n",
       "      <td>1962</td>\n",
       "      <td>0.019438</td>\n",
       "    </tr>\n",
       "    <tr>\n",
       "      <th>3</th>\n",
       "      <td>James</td>\n",
       "      <td>M</td>\n",
       "      <td>72565</td>\n",
       "      <td>1962</td>\n",
       "      <td>0.017982</td>\n",
       "    </tr>\n",
       "    <tr>\n",
       "      <th>4</th>\n",
       "      <td>Robert</td>\n",
       "      <td>M</td>\n",
       "      <td>70206</td>\n",
       "      <td>1962</td>\n",
       "      <td>0.017397</td>\n",
       "    </tr>\n",
       "  </tbody>\n",
       "</table>\n",
       "</div>"
      ],
      "text/plain": [
       "      name sex  births  year  prop_births\n",
       "0  Michael   M   85042  1962     0.021073\n",
       "1    David   M   81328  1962     0.020153\n",
       "2     John   M   78441  1962     0.019438\n",
       "3    James   M   72565  1962     0.017982\n",
       "4   Robert   M   70206  1962     0.017397"
      ]
     },
     "execution_count": 9,
     "metadata": {},
     "output_type": "execute_result"
    }
   ],
   "source": [
    "bnames2[(bnames2.year==1962) & (bnames2.sex == \"M\")].\\\n",
    "sort_values(by='prop_births',ascending=False).head(5).reset_index(drop=True)"
   ]
  },
  {
   "cell_type": "markdown",
   "metadata": {},
   "source": [
    "## 4. Popularity of Names\n",
    "\n",
    "Now that we have the proportion of births, let us plot the popularity of a name through the years. How about plotting the popularity of the female names <code>Mary</code>, <code>Melissa</code> and <code>Mackenzie</code>, and inspecting the underlying trends for any interesting patterns!"
   ]
  },
  {
   "cell_type": "code",
   "execution_count": 10,
   "metadata": {},
   "outputs": [
    {
     "data": {
      "image/png": "[encoded data removed]",
      "text/plain": [
       "<matplotlib.figure.Figure at 0x20d10beb7b8>"
      ]
     },
     "metadata": {},
     "output_type": "display_data"
    },
    {
     "data": {
      "image/png": "[encoded data removed]",
      "text/plain": [
       "<matplotlib.figure.Figure at 0x20d10ef36a0>"
      ]
     },
     "metadata": {},
     "output_type": "display_data"
    },
    {
     "data": {
      "image/png": "[encoded data removed]",
      "text/plain": [
       "<matplotlib.figure.Figure at 0x20d10f412e8>"
      ]
     },
     "metadata": {},
     "output_type": "display_data"
    }
   ],
   "source": [
    "# Set up matplotlib for plotting in the notebook.\n",
    "%matplotlib inline\n",
    "import matplotlib.pyplot as plt\n",
    "\n",
    "def plot_trends(name, sex):\n",
    "    data=bnames2[(bnames2.name==name)&(bnames2.sex==sex)]\n",
    "    ax=data.plot(x=\"year\",y=\"births\")\n",
    "    ax.set_xlim(1880,2016)\n",
    "    ax.set_ylim(0,40000)\n",
    "    ax.set_xlabel(\"Year\")\n",
    "    ax.set_ylabel(\"Number of Births\")\n",
    "    ax.set_title(name)\n",
    "    return ax\n",
    "\n",
    "\n",
    "# Plot trends for Mary, Melissa, and Mackenzie \n",
    "for name in [\"Maria\",\"Melissa\",\"Mackenzie\"]:\n",
    "    plot_trends(name,\"F\")"
   ]
  },
  {
   "cell_type": "markdown",
   "metadata": {},
   "source": [
    "Now for the males in class."
   ]
  },
  {
   "cell_type": "code",
   "execution_count": 11,
   "metadata": {},
   "outputs": [
    {
     "data": {
      "image/png": "[encoded data removed]",
      "text/plain": [
       "<matplotlib.figure.Figure at 0x20d10246eb8>"
      ]
     },
     "metadata": {},
     "output_type": "display_data"
    },
    {
     "data": {
      "image/png": "[encoded data removed]",
      "text/plain": [
       "<matplotlib.figure.Figure at 0x20d11037cc0>"
      ]
     },
     "metadata": {},
     "output_type": "display_data"
    },
    {
     "data": {
      "image/png": "[encoded data removed]",
      "text/plain": [
       "<matplotlib.figure.Figure at 0x20d110d6550>"
      ]
     },
     "metadata": {},
     "output_type": "display_data"
    },
    {
     "data": {
      "image/png": "[encoded data removed]",
      "text/plain": [
       "<matplotlib.figure.Figure at 0x20d110d16d8>"
      ]
     },
     "metadata": {},
     "output_type": "display_data"
    },
    {
     "data": {
      "image/png": "[encoded data removed]",
      "text/plain": [
       "<matplotlib.figure.Figure at 0x20d12119c88>"
      ]
     },
     "metadata": {},
     "output_type": "display_data"
    },
    {
     "data": {
      "image/png": "[encoded data removed]",
      "text/plain": [
       "<matplotlib.figure.Figure at 0x20d1212fef0>"
      ]
     },
     "metadata": {},
     "output_type": "display_data"
    },
    {
     "data": {
      "image/png": "[encoded data removed]",
      "text/plain": [
       "<matplotlib.figure.Figure at 0x20d12119828>"
      ]
     },
     "metadata": {},
     "output_type": "display_data"
    },
    {
     "data": {
      "image/png": "[encoded data removed]",
      "text/plain": [
       "<matplotlib.figure.Figure at 0x20d121d6518>"
      ]
     },
     "metadata": {},
     "output_type": "display_data"
    }
   ],
   "source": [
    "# Plot trends for Braden, Bradley, Brett, Fitzhugh, Graham, Lee, Noah, Samuel\n",
    "for name in [\"Braden\", \"Bradley\", \"Brett\", \"Fitzhugh\", \"Graham\", \"Lee\", \"Noah\", \"Samuel\"]:\n",
    "    plot_trends(name,\"M\")"
   ]
  },
  {
   "cell_type": "markdown",
   "metadata": {},
   "source": [
    "## 5. Trendy vs. Stable Names\n",
    "<p>Based on the plots we created earlier, we can see that <strong>Maria</strong> is a fairly stable name, while <strong>Mackenzie</strong> is not. An interesting question to ask would be what are the top 5 stable and top 5 trendiest names. A stable name is one whose proportion across years does not vary drastically, while a trendy name is one whose popularity peaks for a short period and then dies down. </p>\n",
    "<p>There are many ways to measure trendiness. A simple measure would be to look at the average proportion of births for a name divided by the maximum proportion of births for a name. For example, if the name <code>Joe</code> had the proportions <code>0.1, 0.2, 0.1, 0.1</code>, then the trendiness measure would be <code>(0.1 + 0.2 + 0.1 + 0.1)/(4 * .2)</code> which equals <code>0.625</code>. A name that is stable will have a value of 1.</p>\n",
    "<p>Let us use this idea to figure out the top 10 trendy names in this data set, with at least a 1000 births.</p>"
   ]
  },
  {
   "cell_type": "code",
   "execution_count": 12,
   "metadata": {},
   "outputs": [
    {
     "data": {
      "text/html": [
       "<div>\n",
       "<style scoped>\n",
       "    .dataframe tbody tr th:only-of-type {\n",
       "        vertical-align: middle;\n",
       "    }\n",
       "\n",
       "    .dataframe tbody tr th {\n",
       "        vertical-align: top;\n",
       "    }\n",
       "\n",
       "    .dataframe thead th {\n",
       "        text-align: right;\n",
       "    }\n",
       "</style>\n",
       "<table border=\"1\" class=\"dataframe\">\n",
       "  <thead>\n",
       "    <tr style=\"text-align: right;\">\n",
       "      <th></th>\n",
       "      <th>sex</th>\n",
       "      <th>name</th>\n",
       "      <th>total</th>\n",
       "      <th>average</th>\n",
       "      <th>max</th>\n",
       "      <th>trendiness</th>\n",
       "    </tr>\n",
       "  </thead>\n",
       "  <tbody>\n",
       "    <tr>\n",
       "      <th>16099</th>\n",
       "      <td>F</td>\n",
       "      <td>Deneen</td>\n",
       "      <td>3602</td>\n",
       "      <td>0.000019</td>\n",
       "      <td>0.000413</td>\n",
       "      <td>0.045695</td>\n",
       "    </tr>\n",
       "    <tr>\n",
       "      <th>41122</th>\n",
       "      <td>F</td>\n",
       "      <td>Marquita</td>\n",
       "      <td>11010</td>\n",
       "      <td>0.000034</td>\n",
       "      <td>0.000734</td>\n",
       "      <td>0.046371</td>\n",
       "    </tr>\n",
       "    <tr>\n",
       "      <th>30968</th>\n",
       "      <td>F</td>\n",
       "      <td>Katina</td>\n",
       "      <td>11233</td>\n",
       "      <td>0.000042</td>\n",
       "      <td>0.000873</td>\n",
       "      <td>0.047963</td>\n",
       "    </tr>\n",
       "    <tr>\n",
       "      <th>43174</th>\n",
       "      <td>F</td>\n",
       "      <td>Mila</td>\n",
       "      <td>27274</td>\n",
       "      <td>0.000067</td>\n",
       "      <td>0.001320</td>\n",
       "      <td>0.050632</td>\n",
       "    </tr>\n",
       "    <tr>\n",
       "      <th>69450</th>\n",
       "      <td>M</td>\n",
       "      <td>Atlas</td>\n",
       "      <td>3373</td>\n",
       "      <td>0.000011</td>\n",
       "      <td>0.000216</td>\n",
       "      <td>0.052115</td>\n",
       "    </tr>\n",
       "    <tr>\n",
       "      <th>76160</th>\n",
       "      <td>M</td>\n",
       "      <td>Dewey</td>\n",
       "      <td>34119</td>\n",
       "      <td>0.000158</td>\n",
       "      <td>0.002923</td>\n",
       "      <td>0.054191</td>\n",
       "    </tr>\n",
       "    <tr>\n",
       "      <th>71002</th>\n",
       "      <td>M</td>\n",
       "      <td>Brantley</td>\n",
       "      <td>19365</td>\n",
       "      <td>0.000050</td>\n",
       "      <td>0.000905</td>\n",
       "      <td>0.055609</td>\n",
       "    </tr>\n",
       "    <tr>\n",
       "      <th>90506</th>\n",
       "      <td>M</td>\n",
       "      <td>Lincoln</td>\n",
       "      <td>48194</td>\n",
       "      <td>0.000110</td>\n",
       "      <td>0.001945</td>\n",
       "      <td>0.056518</td>\n",
       "    </tr>\n",
       "    <tr>\n",
       "      <th>79565</th>\n",
       "      <td>M</td>\n",
       "      <td>Garfield</td>\n",
       "      <td>5547</td>\n",
       "      <td>0.000044</td>\n",
       "      <td>0.000763</td>\n",
       "      <td>0.057132</td>\n",
       "    </tr>\n",
       "    <tr>\n",
       "      <th>533</th>\n",
       "      <td>F</td>\n",
       "      <td>Adaline</td>\n",
       "      <td>6478</td>\n",
       "      <td>0.000030</td>\n",
       "      <td>0.000515</td>\n",
       "      <td>0.058780</td>\n",
       "    </tr>\n",
       "  </tbody>\n",
       "</table>\n",
       "</div>"
      ],
      "text/plain": [
       "      sex      name  total   average       max  trendiness\n",
       "16099   F    Deneen   3602  0.000019  0.000413    0.045695\n",
       "41122   F  Marquita  11010  0.000034  0.000734    0.046371\n",
       "30968   F    Katina  11233  0.000042  0.000873    0.047963\n",
       "43174   F      Mila  27274  0.000067  0.001320    0.050632\n",
       "69450   M     Atlas   3373  0.000011  0.000216    0.052115\n",
       "76160   M     Dewey  34119  0.000158  0.002923    0.054191\n",
       "71002   M  Brantley  19365  0.000050  0.000905    0.055609\n",
       "90506   M   Lincoln  48194  0.000110  0.001945    0.056518\n",
       "79565   M  Garfield   5547  0.000044  0.000763    0.057132\n",
       "533     F   Adaline   6478  0.000030  0.000515    0.058780"
      ]
     },
     "execution_count": 12,
     "metadata": {},
     "output_type": "execute_result"
    }
   ],
   "source": [
    "# top10_trendy_names | A Data Frame of the top 10 most trendy names\n",
    "all_trends=pd.DataFrame()\n",
    "all_trends['total']=bnames2.groupby(['sex','name']).births.sum()\n",
    "all_trends['average']=bnames2.groupby(['sex','name']).prop_births.mean()\n",
    "all_trends['max']=bnames2.groupby(['sex','name']).prop_births.max()\n",
    "all_trends['trendiness']=all_trends['average']/all_trends['max']\n",
    "all_trends=all_trends.reset_index()\n",
    "top10_trendy_names=all_trends[all_trends.total>=1000].\\\n",
    "sort_values('trendiness',ascending=True).head(10)\n",
    "top10_trendy_names"
   ]
  },
  {
   "cell_type": "code",
   "execution_count": 13,
   "metadata": {},
   "outputs": [
    {
     "data": {
      "text/html": [
       "<div>\n",
       "<style scoped>\n",
       "    .dataframe tbody tr th:only-of-type {\n",
       "        vertical-align: middle;\n",
       "    }\n",
       "\n",
       "    .dataframe tbody tr th {\n",
       "        vertical-align: top;\n",
       "    }\n",
       "\n",
       "    .dataframe thead th {\n",
       "        text-align: right;\n",
       "    }\n",
       "</style>\n",
       "<table border=\"1\" class=\"dataframe\">\n",
       "  <thead>\n",
       "    <tr style=\"text-align: right;\">\n",
       "      <th></th>\n",
       "      <th>sex</th>\n",
       "      <th>name</th>\n",
       "      <th>total</th>\n",
       "      <th>average</th>\n",
       "      <th>max</th>\n",
       "      <th>trendiness</th>\n",
       "    </tr>\n",
       "  </thead>\n",
       "  <tbody>\n",
       "    <tr>\n",
       "      <th>42374</th>\n",
       "      <td>F</td>\n",
       "      <td>Melissa</td>\n",
       "      <td>751990</td>\n",
       "      <td>0.001611</td>\n",
       "      <td>0.010234</td>\n",
       "      <td>0.157434</td>\n",
       "    </tr>\n",
       "  </tbody>\n",
       "</table>\n",
       "</div>"
      ],
      "text/plain": [
       "      sex     name   total   average       max  trendiness\n",
       "42374   F  Melissa  751990  0.001611  0.010234    0.157434"
      ]
     },
     "execution_count": 13,
     "metadata": {},
     "output_type": "execute_result"
    }
   ],
   "source": [
    "all_trends[(all_trends.name==\"Melissa\") & (all_trends.sex==\"F\")]"
   ]
  },
  {
   "cell_type": "code",
   "execution_count": 14,
   "metadata": {},
   "outputs": [],
   "source": [
    "Math300S=all_trends[(all_trends.name==\"Melissa\") & (all_trends.sex==\"F\")]\n",
    "for name in [\"Braden\", \"Bradley\", \"Brett\", \"Fitzhugh\", \"Graham\", \"Lee\", \"Noah\", \"Samuel\"]:\n",
    "    Math300S=pd.concat([Math300S,all_trends[(all_trends.name==name) & (all_trends.sex==\"M\")]])"
   ]
  },
  {
   "cell_type": "code",
   "execution_count": 15,
   "metadata": {},
   "outputs": [
    {
     "data": {
      "text/html": [
       "<div>\n",
       "<style scoped>\n",
       "    .dataframe tbody tr th:only-of-type {\n",
       "        vertical-align: middle;\n",
       "    }\n",
       "\n",
       "    .dataframe tbody tr th {\n",
       "        vertical-align: top;\n",
       "    }\n",
       "\n",
       "    .dataframe thead th {\n",
       "        text-align: right;\n",
       "    }\n",
       "</style>\n",
       "<table border=\"1\" class=\"dataframe\">\n",
       "  <thead>\n",
       "    <tr style=\"text-align: right;\">\n",
       "      <th></th>\n",
       "      <th>sex</th>\n",
       "      <th>name</th>\n",
       "      <th>total</th>\n",
       "      <th>average</th>\n",
       "      <th>max</th>\n",
       "      <th>trendiness</th>\n",
       "    </tr>\n",
       "  </thead>\n",
       "  <tbody>\n",
       "    <tr>\n",
       "      <th>79154</th>\n",
       "      <td>M</td>\n",
       "      <td>Fitzhugh</td>\n",
       "      <td>380</td>\n",
       "      <td>0.000009</td>\n",
       "      <td>0.000073</td>\n",
       "      <td>0.119277</td>\n",
       "    </tr>\n",
       "    <tr>\n",
       "      <th>80239</th>\n",
       "      <td>M</td>\n",
       "      <td>Graham</td>\n",
       "      <td>39800</td>\n",
       "      <td>0.000092</td>\n",
       "      <td>0.000645</td>\n",
       "      <td>0.142002</td>\n",
       "    </tr>\n",
       "    <tr>\n",
       "      <th>94702</th>\n",
       "      <td>M</td>\n",
       "      <td>Noah</td>\n",
       "      <td>356705</td>\n",
       "      <td>0.000759</td>\n",
       "      <td>0.005319</td>\n",
       "      <td>0.142704</td>\n",
       "    </tr>\n",
       "    <tr>\n",
       "      <th>42374</th>\n",
       "      <td>F</td>\n",
       "      <td>Melissa</td>\n",
       "      <td>751990</td>\n",
       "      <td>0.001611</td>\n",
       "      <td>0.010234</td>\n",
       "      <td>0.157434</td>\n",
       "    </tr>\n",
       "    <tr>\n",
       "      <th>70856</th>\n",
       "      <td>M</td>\n",
       "      <td>Braden</td>\n",
       "      <td>43516</td>\n",
       "      <td>0.000145</td>\n",
       "      <td>0.000793</td>\n",
       "      <td>0.182700</td>\n",
       "    </tr>\n",
       "    <tr>\n",
       "      <th>70865</th>\n",
       "      <td>M</td>\n",
       "      <td>Bradley</td>\n",
       "      <td>302492</td>\n",
       "      <td>0.000649</td>\n",
       "      <td>0.002095</td>\n",
       "      <td>0.309823</td>\n",
       "    </tr>\n",
       "    <tr>\n",
       "      <th>71195</th>\n",
       "      <td>M</td>\n",
       "      <td>Brett</td>\n",
       "      <td>157067</td>\n",
       "      <td>0.000514</td>\n",
       "      <td>0.001329</td>\n",
       "      <td>0.386613</td>\n",
       "    </tr>\n",
       "    <tr>\n",
       "      <th>99099</th>\n",
       "      <td>M</td>\n",
       "      <td>Samuel</td>\n",
       "      <td>739522</td>\n",
       "      <td>0.002228</td>\n",
       "      <td>0.005082</td>\n",
       "      <td>0.438327</td>\n",
       "    </tr>\n",
       "    <tr>\n",
       "      <th>90061</th>\n",
       "      <td>M</td>\n",
       "      <td>Lee</td>\n",
       "      <td>230413</td>\n",
       "      <td>0.000861</td>\n",
       "      <td>0.001927</td>\n",
       "      <td>0.446784</td>\n",
       "    </tr>\n",
       "  </tbody>\n",
       "</table>\n",
       "</div>"
      ],
      "text/plain": [
       "      sex      name   total   average       max  trendiness\n",
       "79154   M  Fitzhugh     380  0.000009  0.000073    0.119277\n",
       "80239   M    Graham   39800  0.000092  0.000645    0.142002\n",
       "94702   M      Noah  356705  0.000759  0.005319    0.142704\n",
       "42374   F   Melissa  751990  0.001611  0.010234    0.157434\n",
       "70856   M    Braden   43516  0.000145  0.000793    0.182700\n",
       "70865   M   Bradley  302492  0.000649  0.002095    0.309823\n",
       "71195   M     Brett  157067  0.000514  0.001329    0.386613\n",
       "99099   M    Samuel  739522  0.002228  0.005082    0.438327\n",
       "90061   M       Lee  230413  0.000861  0.001927    0.446784"
      ]
     },
     "execution_count": 15,
     "metadata": {},
     "output_type": "execute_result"
    }
   ],
   "source": [
    "Math300S.sort_values('trendiness',ascending=True)"
   ]
  },
  {
   "cell_type": "markdown",
   "metadata": {},
   "source": [
    "## 6. Bring in Mortality Data\n",
    "<p>So, what more is in a name? Well, with some further work, it is possible to predict the age of a person based on the name (Whoa! Really????). For this, we will need actuarial data that can tell us the chances that someone is still alive, based on when they were born. Fortunately, the <a href=\"https://www.ssa.gov/\">SSA</a> provides detailed <a href=\"https://www.ssa.gov/oact/STATS/table4c6.html\">actuarial life tables</a> by birth cohorts.</p>\n",
    "<table>\n",
    "<thead>\n",
    "<tr>\n",
    "<th style=\"text-align:right;\">year</th>\n",
    "<th style=\"text-align:right;\">age</th>\n",
    "<th style=\"text-align:right;\">qx</th>\n",
    "<th style=\"text-align:right;\">lx</th>\n",
    "<th style=\"text-align:right;\">dx</th>\n",
    "<th style=\"text-align:right;\">Lx</th>\n",
    "<th style=\"text-align:right;\">Tx</th>\n",
    "<th style=\"text-align:right;\">ex</th>\n",
    "<th style=\"text-align:left;\">sex</th>\n",
    "</tr>\n",
    "</thead>\n",
    "<tbody>\n",
    "<tr>\n",
    "<td style=\"text-align:right;\">1910</td>\n",
    "<td style=\"text-align:right;\">39</td>\n",
    "<td style=\"text-align:right;\">0.00283</td>\n",
    "<td style=\"text-align:right;\">78275</td>\n",
    "<td style=\"text-align:right;\">222</td>\n",
    "<td style=\"text-align:right;\">78164</td>\n",
    "<td style=\"text-align:right;\">3129636</td>\n",
    "<td style=\"text-align:right;\">39.98</td>\n",
    "<td style=\"text-align:left;\">F</td>\n",
    "</tr>\n",
    "<tr>\n",
    "<td style=\"text-align:right;\">1910</td>\n",
    "<td style=\"text-align:right;\">40</td>\n",
    "<td style=\"text-align:right;\">0.00297</td>\n",
    "<td style=\"text-align:right;\">78053</td>\n",
    "<td style=\"text-align:right;\">232</td>\n",
    "<td style=\"text-align:right;\">77937</td>\n",
    "<td style=\"text-align:right;\">3051472</td>\n",
    "<td style=\"text-align:right;\">39.09</td>\n",
    "<td style=\"text-align:left;\">F</td>\n",
    "</tr>\n",
    "<tr>\n",
    "<td style=\"text-align:right;\">1910</td>\n",
    "<td style=\"text-align:right;\">41</td>\n",
    "<td style=\"text-align:right;\">0.00318</td>\n",
    "<td style=\"text-align:right;\">77821</td>\n",
    "<td style=\"text-align:right;\">248</td>\n",
    "<td style=\"text-align:right;\">77697</td>\n",
    "<td style=\"text-align:right;\">2973535</td>\n",
    "<td style=\"text-align:right;\">38.21</td>\n",
    "<td style=\"text-align:left;\">F</td>\n",
    "</tr>\n",
    "<tr>\n",
    "<td style=\"text-align:right;\">1910</td>\n",
    "<td style=\"text-align:right;\">42</td>\n",
    "<td style=\"text-align:right;\">0.00332</td>\n",
    "<td style=\"text-align:right;\">77573</td>\n",
    "<td style=\"text-align:right;\">257</td>\n",
    "<td style=\"text-align:right;\">77444</td>\n",
    "<td style=\"text-align:right;\">2895838</td>\n",
    "<td style=\"text-align:right;\">37.33</td>\n",
    "<td style=\"text-align:left;\">F</td>\n",
    "</tr>\n",
    "<tr>\n",
    "<td style=\"text-align:right;\">1910</td>\n",
    "<td style=\"text-align:right;\">43</td>\n",
    "<td style=\"text-align:right;\">0.00346</td>\n",
    "<td style=\"text-align:right;\">77316</td>\n",
    "<td style=\"text-align:right;\">268</td>\n",
    "<td style=\"text-align:right;\">77182</td>\n",
    "<td style=\"text-align:right;\">2818394</td>\n",
    "<td style=\"text-align:right;\">36.45</td>\n",
    "<td style=\"text-align:left;\">F</td>\n",
    "</tr>\n",
    "<tr>\n",
    "<td style=\"text-align:right;\">1910</td>\n",
    "<td style=\"text-align:right;\">44</td>\n",
    "<td style=\"text-align:right;\">0.00351</td>\n",
    "<td style=\"text-align:right;\">77048</td>\n",
    "<td style=\"text-align:right;\">270</td>\n",
    "<td style=\"text-align:right;\">76913</td>\n",
    "<td style=\"text-align:right;\">2741212</td>\n",
    "<td style=\"text-align:right;\">35.58</td>\n",
    "<td style=\"text-align:left;\">F</td>\n",
    "</tr>\n",
    "</tbody>\n",
    "</table>\n",
    "<p>You can read the <a href=\"https://www.ssa.gov/oact/NOTES/as120/LifeTables_Body.html\">documentation for the lifetables</a> to understand what the different columns mean. The key column of interest to us is <code>lx</code>, which provides the number of people born in a <code>year</code> who live upto a given <code>age</code>. The probability of being alive can be derived as <code>lx</code> by 100,000. </p>\n",
    "<p>Given that 2016 is the latest year in the baby names dataset, we are interested only in a subset of this data, that will help us answer the question, \"What percentage of people born in Year X are still alive in 2016?\" </p>\n",
    "<p>Let us use this data and plot it to get a sense of the mortality distribution!</p>"
   ]
  },
  {
   "cell_type": "code",
   "execution_count": 16,
   "metadata": {},
   "outputs": [
    {
     "data": {
      "text/html": [
       "<div>\n",
       "<style scoped>\n",
       "    .dataframe tbody tr th:only-of-type {\n",
       "        vertical-align: middle;\n",
       "    }\n",
       "\n",
       "    .dataframe tbody tr th {\n",
       "        vertical-align: top;\n",
       "    }\n",
       "\n",
       "    .dataframe thead th {\n",
       "        text-align: right;\n",
       "    }\n",
       "</style>\n",
       "<table border=\"1\" class=\"dataframe\">\n",
       "  <thead>\n",
       "    <tr style=\"text-align: right;\">\n",
       "      <th></th>\n",
       "      <th>year</th>\n",
       "      <th>age</th>\n",
       "      <th>qx</th>\n",
       "      <th>lx</th>\n",
       "      <th>dx</th>\n",
       "      <th>Lx</th>\n",
       "      <th>Tx</th>\n",
       "      <th>ex</th>\n",
       "      <th>sex</th>\n",
       "    </tr>\n",
       "  </thead>\n",
       "  <tbody>\n",
       "    <tr>\n",
       "      <th>0</th>\n",
       "      <td>1900</td>\n",
       "      <td>0</td>\n",
       "      <td>0.14596</td>\n",
       "      <td>100000.0</td>\n",
       "      <td>14,596</td>\n",
       "      <td>90,026</td>\n",
       "      <td>5,151,511</td>\n",
       "      <td>51.52</td>\n",
       "      <td>M</td>\n",
       "    </tr>\n",
       "    <tr>\n",
       "      <th>1</th>\n",
       "      <td>1900</td>\n",
       "      <td>1</td>\n",
       "      <td>0.03282</td>\n",
       "      <td>85404.0</td>\n",
       "      <td>2,803</td>\n",
       "      <td>84,003</td>\n",
       "      <td>5,061,484</td>\n",
       "      <td>59.26</td>\n",
       "      <td>M</td>\n",
       "    </tr>\n",
       "    <tr>\n",
       "      <th>2</th>\n",
       "      <td>1900</td>\n",
       "      <td>2</td>\n",
       "      <td>0.01634</td>\n",
       "      <td>82601.0</td>\n",
       "      <td>1,350</td>\n",
       "      <td>81,926</td>\n",
       "      <td>4,977,482</td>\n",
       "      <td>60.26</td>\n",
       "      <td>M</td>\n",
       "    </tr>\n",
       "    <tr>\n",
       "      <th>3</th>\n",
       "      <td>1900</td>\n",
       "      <td>3</td>\n",
       "      <td>0.01052</td>\n",
       "      <td>81251.0</td>\n",
       "      <td>855</td>\n",
       "      <td>80,824</td>\n",
       "      <td>4,895,556</td>\n",
       "      <td>60.25</td>\n",
       "      <td>M</td>\n",
       "    </tr>\n",
       "    <tr>\n",
       "      <th>4</th>\n",
       "      <td>1900</td>\n",
       "      <td>4</td>\n",
       "      <td>0.00875</td>\n",
       "      <td>80397.0</td>\n",
       "      <td>703</td>\n",
       "      <td>80,045</td>\n",
       "      <td>4,814,732</td>\n",
       "      <td>59.89</td>\n",
       "      <td>M</td>\n",
       "    </tr>\n",
       "  </tbody>\n",
       "</table>\n",
       "</div>"
      ],
      "text/plain": [
       "   year  age       qx        lx      dx      Lx         Tx     ex sex\n",
       "0  1900    0  0.14596  100000.0  14,596  90,026  5,151,511  51.52   M\n",
       "1  1900    1  0.03282   85404.0   2,803  84,003  5,061,484  59.26   M\n",
       "2  1900    2  0.01634   82601.0   1,350  81,926  4,977,482  60.26   M\n",
       "3  1900    3  0.01052   81251.0     855  80,824  4,895,556  60.25   M\n",
       "4  1900    4  0.00875   80397.0     703  80,045  4,814,732  59.89   M"
      ]
     },
     "execution_count": 16,
     "metadata": {},
     "output_type": "execute_result"
    }
   ],
   "source": [
    "# Read lifetables from datasets/lifetables.csv\n",
    "lifetables=pd.read_csv('datasets/lifetables.csv')\n",
    "lifetables.head()"
   ]
  },
  {
   "cell_type": "code",
   "execution_count": 17,
   "metadata": {},
   "outputs": [
    {
     "data": {
      "text/plain": [
       "<matplotlib.axes._subplots.AxesSubplot at 0x20d1236cd30>"
      ]
     },
     "execution_count": 17,
     "metadata": {},
     "output_type": "execute_result"
    },
    {
     "data": {
      "image/png": "[encoded data removed]",
      "text/plain": [
       "<matplotlib.figure.Figure at 0x20d1236c6d8>"
      ]
     },
     "metadata": {},
     "output_type": "display_data"
    }
   ],
   "source": [
    "# Extract subset relevant to those alive in 2016\n",
    "lifetables_2016=lifetables[(lifetables.year+lifetables.age)==2016]\n",
    "lifetables_2016.head()\n",
    "# Plot the mortality distribution: year vs. lx\n",
    "lifetables_2016.plot(x='year',y='lx',legend=False)"
   ]
  },
  {
   "cell_type": "code",
   "execution_count": 18,
   "metadata": {},
   "outputs": [
    {
     "data": {
      "text/plain": [
       "<matplotlib.legend.Legend at 0x20d10ee5550>"
      ]
     },
     "execution_count": 18,
     "metadata": {},
     "output_type": "execute_result"
    },
    {
     "data": {
      "image/png": "[encoded data removed]",
      "text/plain": [
       "<matplotlib.figure.Figure at 0x20d10eef7f0>"
      ]
     },
     "metadata": {},
     "output_type": "display_data"
    }
   ],
   "source": [
    "for sex in [\"F\",\"M\"]:\n",
    "    temp=lifetables_2016[lifetables_2016.sex==sex]\n",
    "    plt.plot(temp.year,temp.lx)\n",
    "plt.legend(\"FM\",loc='upper left')"
   ]
  },
  {
   "cell_type": "markdown",
   "metadata": {},
   "source": [
    "## 7. Smoothen the Curve!\n",
    "<p>We are almost there. There is just one small glitch. The cohort life tables are provided only for every decade. In order to figure out the distribution of people alive, we need the probabilities for every year. One way to fill up the gaps in the data is to use some kind of interpolation. Let us keep things simple and use linear interpolation to fill out the gaps in values of <code>lx</code>, between the years <code>1900</code> and <code>2016</code>.</p>"
   ]
  },
  {
   "cell_type": "code",
   "execution_count": 19,
   "metadata": {},
   "outputs": [
    {
     "data": {
      "text/html": [
       "<div>\n",
       "<style scoped>\n",
       "    .dataframe tbody tr th:only-of-type {\n",
       "        vertical-align: middle;\n",
       "    }\n",
       "\n",
       "    .dataframe tbody tr th {\n",
       "        vertical-align: top;\n",
       "    }\n",
       "\n",
       "    .dataframe thead th {\n",
       "        text-align: right;\n",
       "    }\n",
       "</style>\n",
       "<table border=\"1\" class=\"dataframe\">\n",
       "  <thead>\n",
       "    <tr style=\"text-align: right;\">\n",
       "      <th></th>\n",
       "      <th>index</th>\n",
       "      <th>year</th>\n",
       "      <th>lx</th>\n",
       "      <th>sex</th>\n",
       "    </tr>\n",
       "  </thead>\n",
       "  <tbody>\n",
       "    <tr>\n",
       "      <th>0</th>\n",
       "      <td>116</td>\n",
       "      <td>1900</td>\n",
       "      <td>0.0</td>\n",
       "      <td>M</td>\n",
       "    </tr>\n",
       "    <tr>\n",
       "      <th>1</th>\n",
       "      <td>236</td>\n",
       "      <td>1900</td>\n",
       "      <td>0.0</td>\n",
       "      <td>F</td>\n",
       "    </tr>\n",
       "    <tr>\n",
       "      <th>2</th>\n",
       "      <td>346</td>\n",
       "      <td>1910</td>\n",
       "      <td>7.0</td>\n",
       "      <td>M</td>\n",
       "    </tr>\n",
       "    <tr>\n",
       "      <th>3</th>\n",
       "      <td>466</td>\n",
       "      <td>1910</td>\n",
       "      <td>61.0</td>\n",
       "      <td>F</td>\n",
       "    </tr>\n",
       "    <tr>\n",
       "      <th>4</th>\n",
       "      <td>576</td>\n",
       "      <td>1920</td>\n",
       "      <td>1625.0</td>\n",
       "      <td>M</td>\n",
       "    </tr>\n",
       "    <tr>\n",
       "      <th>5</th>\n",
       "      <td>696</td>\n",
       "      <td>1920</td>\n",
       "      <td>5428.0</td>\n",
       "      <td>F</td>\n",
       "    </tr>\n",
       "    <tr>\n",
       "      <th>6</th>\n",
       "      <td>806</td>\n",
       "      <td>1930</td>\n",
       "      <td>20766.0</td>\n",
       "      <td>M</td>\n",
       "    </tr>\n",
       "    <tr>\n",
       "      <th>7</th>\n",
       "      <td>926</td>\n",
       "      <td>1930</td>\n",
       "      <td>35078.0</td>\n",
       "      <td>F</td>\n",
       "    </tr>\n",
       "    <tr>\n",
       "      <th>8</th>\n",
       "      <td>1036</td>\n",
       "      <td>1940</td>\n",
       "      <td>52262.0</td>\n",
       "      <td>M</td>\n",
       "    </tr>\n",
       "    <tr>\n",
       "      <th>9</th>\n",
       "      <td>1156</td>\n",
       "      <td>1940</td>\n",
       "      <td>65417.0</td>\n",
       "      <td>F</td>\n",
       "    </tr>\n",
       "    <tr>\n",
       "      <th>10</th>\n",
       "      <td>1266</td>\n",
       "      <td>1950</td>\n",
       "      <td>74633.0</td>\n",
       "      <td>M</td>\n",
       "    </tr>\n",
       "    <tr>\n",
       "      <th>11</th>\n",
       "      <td>1386</td>\n",
       "      <td>1950</td>\n",
       "      <td>83676.0</td>\n",
       "      <td>F</td>\n",
       "    </tr>\n",
       "    <tr>\n",
       "      <th>12</th>\n",
       "      <td>1496</td>\n",
       "      <td>1960</td>\n",
       "      <td>85491.0</td>\n",
       "      <td>M</td>\n",
       "    </tr>\n",
       "    <tr>\n",
       "      <th>13</th>\n",
       "      <td>1616</td>\n",
       "      <td>1960</td>\n",
       "      <td>91390.0</td>\n",
       "      <td>F</td>\n",
       "    </tr>\n",
       "    <tr>\n",
       "      <th>14</th>\n",
       "      <td>1726</td>\n",
       "      <td>1970</td>\n",
       "      <td>91811.0</td>\n",
       "      <td>M</td>\n",
       "    </tr>\n",
       "    <tr>\n",
       "      <th>15</th>\n",
       "      <td>1846</td>\n",
       "      <td>1970</td>\n",
       "      <td>95092.0</td>\n",
       "      <td>F</td>\n",
       "    </tr>\n",
       "    <tr>\n",
       "      <th>16</th>\n",
       "      <td>1956</td>\n",
       "      <td>1980</td>\n",
       "      <td>95598.0</td>\n",
       "      <td>M</td>\n",
       "    </tr>\n",
       "    <tr>\n",
       "      <th>17</th>\n",
       "      <td>2076</td>\n",
       "      <td>1980</td>\n",
       "      <td>97375.0</td>\n",
       "      <td>F</td>\n",
       "    </tr>\n",
       "    <tr>\n",
       "      <th>18</th>\n",
       "      <td>2186</td>\n",
       "      <td>1990</td>\n",
       "      <td>97465.0</td>\n",
       "      <td>M</td>\n",
       "    </tr>\n",
       "    <tr>\n",
       "      <th>19</th>\n",
       "      <td>2306</td>\n",
       "      <td>1990</td>\n",
       "      <td>98446.0</td>\n",
       "      <td>F</td>\n",
       "    </tr>\n",
       "  </tbody>\n",
       "</table>\n",
       "</div>"
      ],
      "text/plain": [
       "    index  year       lx sex\n",
       "0     116  1900      0.0   M\n",
       "1     236  1900      0.0   F\n",
       "2     346  1910      7.0   M\n",
       "3     466  1910     61.0   F\n",
       "4     576  1920   1625.0   M\n",
       "5     696  1920   5428.0   F\n",
       "6     806  1930  20766.0   M\n",
       "7     926  1930  35078.0   F\n",
       "8    1036  1940  52262.0   M\n",
       "9    1156  1940  65417.0   F\n",
       "10   1266  1950  74633.0   M\n",
       "11   1386  1950  83676.0   F\n",
       "12   1496  1960  85491.0   M\n",
       "13   1616  1960  91390.0   F\n",
       "14   1726  1970  91811.0   M\n",
       "15   1846  1970  95092.0   F\n",
       "16   1956  1980  95598.0   M\n",
       "17   2076  1980  97375.0   F\n",
       "18   2186  1990  97465.0   M\n",
       "19   2306  1990  98446.0   F"
      ]
     },
     "execution_count": 19,
     "metadata": {},
     "output_type": "execute_result"
    }
   ],
   "source": [
    "# Create smoothened lifetable_2016_s by interpolating values of lx\n",
    "lifetables_2016_s_temp=lifetables_2016[(lifetables_2016.year>=1900)&(lifetables_2016.year<=2016)][['year','lx','sex']]\n",
    "lifetables_2016_s_temp.reset_index().head(20)"
   ]
  },
  {
   "cell_type": "code",
   "execution_count": 20,
   "metadata": {},
   "outputs": [
    {
     "data": {
      "text/html": [
       "<div>\n",
       "<style scoped>\n",
       "    .dataframe tbody tr th:only-of-type {\n",
       "        vertical-align: middle;\n",
       "    }\n",
       "\n",
       "    .dataframe tbody tr th {\n",
       "        vertical-align: top;\n",
       "    }\n",
       "\n",
       "    .dataframe thead th {\n",
       "        text-align: right;\n",
       "    }\n",
       "</style>\n",
       "<table border=\"1\" class=\"dataframe\">\n",
       "  <thead>\n",
       "    <tr style=\"text-align: right;\">\n",
       "      <th></th>\n",
       "      <th>year</th>\n",
       "      <th>lx</th>\n",
       "      <th>sex</th>\n",
       "    </tr>\n",
       "  </thead>\n",
       "  <tbody>\n",
       "    <tr>\n",
       "      <th>0</th>\n",
       "      <td>1900</td>\n",
       "      <td>0.0</td>\n",
       "      <td>F</td>\n",
       "    </tr>\n",
       "    <tr>\n",
       "      <th>1</th>\n",
       "      <td>1901</td>\n",
       "      <td>6.1</td>\n",
       "      <td>F</td>\n",
       "    </tr>\n",
       "    <tr>\n",
       "      <th>2</th>\n",
       "      <td>1902</td>\n",
       "      <td>12.2</td>\n",
       "      <td>F</td>\n",
       "    </tr>\n",
       "    <tr>\n",
       "      <th>3</th>\n",
       "      <td>1903</td>\n",
       "      <td>18.3</td>\n",
       "      <td>F</td>\n",
       "    </tr>\n",
       "    <tr>\n",
       "      <th>4</th>\n",
       "      <td>1904</td>\n",
       "      <td>24.4</td>\n",
       "      <td>F</td>\n",
       "    </tr>\n",
       "  </tbody>\n",
       "</table>\n",
       "</div>"
      ],
      "text/plain": [
       "   year    lx sex\n",
       "0  1900   0.0   F\n",
       "1  1901   6.1   F\n",
       "2  1902  12.2   F\n",
       "3  1903  18.3   F\n",
       "4  1904  24.4   F"
      ]
     },
     "execution_count": 20,
     "metadata": {},
     "output_type": "execute_result"
    }
   ],
   "source": [
    "year=np.arange(1900,2016)\n",
    "year\n",
    "ltF=lifetables_2016_s_temp[lifetables_2016_s_temp.sex=='F'][['year','lx']].\\\n",
    "set_index('year').reindex(year).interpolate().reset_index()\n",
    "ltF['sex']='F'\n",
    "ltM=lifetables_2016_s_temp[lifetables_2016_s_temp.sex=='M'][['year','lx']].\\\n",
    "set_index('year').reindex(year).interpolate().reset_index()\n",
    "ltM['sex']='M'\n",
    "lifetable_2016_s=ltF.append(ltM,ignore_index=True)\n",
    "lifetable_2016_s.head()"
   ]
  },
  {
   "cell_type": "markdown",
   "metadata": {},
   "source": [
    "## 8. Distribution of People Alive by Name\n",
    "<p>Now that we have all the required data, we need a few helper functions to help us with our analysis. </p>\n",
    "<p>The first function we will write is <code>get_data</code>,which takes <code>name</code> and <code>sex</code> as inputs and returns a data frame with the distribution of number of births and number of people alive by year.</p>\n",
    "<p>The second function is <code>plot_name</code> which accepts the same arguments as <code>get_data</code>, but returns a line plot of the distribution of number of births, overlaid by an area plot of the number alive by year.</p>\n",
    "<p>Using these functions, we will plot the distribution of births for boys named <strong>Joseph</strong> and girls named <strong>Brittany</strong>.</p>"
   ]
  },
  {
   "cell_type": "code",
   "execution_count": 21,
   "metadata": {},
   "outputs": [],
   "source": [
    "def get_data(name, sex):\n",
    "    #Get subset of data\n",
    "    temp=bnames[((bnames['name']==name)&(bnames['sex']==sex))]\n",
    "    #Need an inner join\n",
    "    result=temp.merge(lifetable_2016_s,on=['year','sex'])\n",
    "    result['n_alive']=result['births']*result['lx']/100000\n",
    "    return result\n",
    "    \n",
    "\n",
    "def plot_data(name, sex):\n",
    "    # Need data\n",
    "    temp = get_data(name,sex)\n",
    "    # Generate line plot\n",
    "    ax=temp.plot(x='year',y='births',kind='line',color='black')\n",
    "    ax.set_title('Distribution of people for the name: '+name)\n",
    "    temp.plot(x='year',y='n_alive',ax=ax,kind='area')\n",
    "    ax.set_xlim(1900,2016)\n",
    "    ax.set_ylim(0,35000)\n",
    "    return ax"
   ]
  },
  {
   "cell_type": "code",
   "execution_count": 22,
   "metadata": {},
   "outputs": [
    {
     "data": {
      "text/plain": [
       "<matplotlib.axes._subplots.AxesSubplot at 0x20d1104b278>"
      ]
     },
     "execution_count": 22,
     "metadata": {},
     "output_type": "execute_result"
    },
    {
     "data": {
      "image/png": "[encoded data removed]",
      "text/plain": [
       "<matplotlib.figure.Figure at 0x20d11016c18>"
      ]
     },
     "metadata": {},
     "output_type": "display_data"
    },
    {
     "data": {
      "image/png": "[encoded data removed]",
      "text/plain": [
       "<matplotlib.figure.Figure at 0x20d122a39b0>"
      ]
     },
     "metadata": {},
     "output_type": "display_data"
    },
    {
     "data": {
      "image/png": "[encoded data removed]",
      "text/plain": [
       "<matplotlib.figure.Figure at 0x20d122a3390>"
      ]
     },
     "metadata": {},
     "output_type": "display_data"
    },
    {
     "data": {
      "image/png": "[encoded data removed]",
      "text/plain": [
       "<matplotlib.figure.Figure at 0x20d122a36a0>"
      ]
     },
     "metadata": {},
     "output_type": "display_data"
    },
    {
     "data": {
      "image/png": "[encoded data removed]",
      "text/plain": [
       "<matplotlib.figure.Figure at 0x20d1225c400>"
      ]
     },
     "metadata": {},
     "output_type": "display_data"
    },
    {
     "data": {
      "image/png": "[encoded data removed]",
      "text/plain": [
       "<matplotlib.figure.Figure at 0x20d110c8860>"
      ]
     },
     "metadata": {},
     "output_type": "display_data"
    },
    {
     "data": {
      "image/png": "[encoded data removed]",
      "text/plain": [
       "<matplotlib.figure.Figure at 0x20d110ed780>"
      ]
     },
     "metadata": {},
     "output_type": "display_data"
    },
    {
     "data": {
      "image/png": "[encoded data removed]",
      "text/plain": [
       "<matplotlib.figure.Figure at 0x20d121ebe48>"
      ]
     },
     "metadata": {},
     "output_type": "display_data"
    },
    {
     "data": {
      "image/png": "[encoded data removed]",
      "text/plain": [
       "<matplotlib.figure.Figure at 0x20d121c3e10>"
      ]
     },
     "metadata": {},
     "output_type": "display_data"
    }
   ],
   "source": [
    "# Plot the distribution of births and number alive for our names\n",
    "for name in [\"Braden\", \"Bradley\", \"Brett\", \"Fitzhugh\", \"Graham\", \"Lee\", \"Noah\", \"Samuel\"]:\n",
    "    plot_data(name,\"M\")\n",
    "plot_data(\"Melissa\",\"F\")"
   ]
  },
  {
   "cell_type": "markdown",
   "metadata": {},
   "source": [
    "## 9. Estimate Age\n",
    "<p>In this section, we want to figure out the probability that a person with a certain name is alive, as well as the quantiles of their age distribution. In particular, we will estimate the age of a female named <strong>Gertrude</strong>. Any guesses on how old a person with this name is? How about a male named <strong>Ralph</strong>?</p>"
   ]
  },
  {
   "cell_type": "code",
   "execution_count": 23,
   "metadata": {},
   "outputs": [],
   "source": [
    "# Import modules\n",
    "from wquantiles import quantile\n",
    "\n",
    "# Function to estimate age quantiles\n",
    "def estimate_age(name, sex):\n",
    "    #Setup dictionary\n",
    "    result={}\n",
    "    # Get data\n",
    "    temp=get_data(name,sex)\n",
    "    # Probability of being alive\n",
    "    result['p_alive']=temp.n_alive.sum()/temp.births.sum()\n",
    "    result['name']=name\n",
    "    result['sex']=sex\n",
    "    # Now age quantiles, we must weight by the n_alive at any year\n",
    "    # This was the code, but let's make it iterable\n",
    "    #result['q50']=2016-round(quantile(temp.year,temp.n_alive,.5),0)\n",
    "    #When I ran with q25 with .25 I got the reverse since I am subtracting\n",
    "    my_list=[('q25',.75),('q50',.5),('q75',.25)]\n",
    "    for label, quant in my_list:\n",
    "        result[label]=2016-round(quantile(temp.year,temp.n_alive,quant),0)\n",
    "    return pd.Series(result)"
   ]
  },
  {
   "cell_type": "code",
   "execution_count": 24,
   "metadata": {},
   "outputs": [
    {
     "name": "stdout",
     "output_type": "stream",
     "text": [
      "name       Gertrude\n",
      "p_alive    0.187256\n",
      "q25              69\n",
      "q50              80\n",
      "q75              88\n",
      "sex               F\n",
      "dtype: object\n",
      "name          Ralph\n",
      "p_alive    0.447255\n",
      "q25              52\n",
      "q50              63\n",
      "q75              73\n",
      "sex               M\n",
      "dtype: object\n"
     ]
    }
   ],
   "source": [
    "# Estimate the age of Gertrude\n",
    "print(estimate_age('Gertrude',\"F\"))\n",
    "print(estimate_age('Ralph','M'))"
   ]
  },
  {
   "cell_type": "code",
   "execution_count": 25,
   "metadata": {},
   "outputs": [
    {
     "name": "stdout",
     "output_type": "stream",
     "text": [
      "name         Braden\n",
      "p_alive    0.984694\n",
      "q25               8\n",
      "q50              12\n",
      "q75              17\n",
      "sex               M\n",
      "dtype: object\n",
      "name        Bradley\n",
      "p_alive    0.922146\n",
      "q25              24\n",
      "q50              35\n",
      "q75              47\n",
      "sex               M\n",
      "dtype: object\n",
      "name          Brett\n",
      "p_alive    0.944521\n",
      "q25              23\n",
      "q50              32\n",
      "q75              44\n",
      "sex               M\n",
      "dtype: object\n",
      "name       Fitzhugh\n",
      "p_alive    0.255893\n",
      "q25              62\n",
      "q50              70\n",
      "q75              83\n",
      "sex               M\n",
      "dtype: object\n",
      "name         Graham\n",
      "p_alive    0.900693\n",
      "q25               5\n",
      "q50              15\n",
      "q75              29\n",
      "sex               M\n",
      "dtype: object\n",
      "name            Lee\n",
      "p_alive    0.631165\n",
      "q25              37\n",
      "q50              53\n",
      "q75              65\n",
      "sex               M\n",
      "dtype: object\n",
      "name           Noah\n",
      "p_alive    0.969476\n",
      "q25               5\n",
      "q50              10\n",
      "q75              16\n",
      "sex               M\n",
      "dtype: object\n",
      "name         Samuel\n",
      "p_alive    0.797848\n",
      "q25              12\n",
      "q50              23\n",
      "q75              42\n",
      "sex               M\n",
      "dtype: object\n",
      "name        Melissa\n",
      "p_alive    0.962014\n",
      "q25              30\n",
      "q50              37\n",
      "q75              44\n",
      "sex               F\n",
      "dtype: object\n"
     ]
    }
   ],
   "source": [
    "# Our Class\n",
    "for name in [\"Braden\", \"Bradley\", \"Brett\", \"Fitzhugh\", \"Graham\", \"Lee\", \"Noah\", \"Samuel\"]:\n",
    "    print(estimate_age(name,\"M\"))\n",
    "print(estimate_age(\"Melissa\",\"F\"))"
   ]
  },
  {
   "cell_type": "code",
   "execution_count": null,
   "metadata": {},
   "outputs": [],
   "source": []
  }
 ],
 "metadata": {
  "kernelspec": {
   "display_name": "Python 3",
   "language": "python",
   "name": "python3"
  },
  "language_info": {
   "codemirror_mode": {
    "name": "ipython",
    "version": 3
   },
   "file_extension": ".py",
   "mimetype": "text/x-python",
   "name": "python",
   "nbconvert_exporter": "python",
   "pygments_lexer": "ipython3",
   "version": "3.6.4"
  }
 },
 "nbformat": 4,
 "nbformat_minor": 2
}
